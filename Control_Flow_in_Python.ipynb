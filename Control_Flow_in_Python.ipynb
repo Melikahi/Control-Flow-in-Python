{
  "nbformat": 4,
  "nbformat_minor": 0,
  "metadata": {
    "colab": {
      "provenance": []
    },
    "kernelspec": {
      "name": "python3",
      "display_name": "Python 3"
    },
    "language_info": {
      "name": "python"
    }
  },
  "cells": [
    {
      "cell_type": "code",
      "execution_count": null,
      "metadata": {
        "id": "GLTmsNfBfSxE"
      },
      "outputs": [],
      "source": [
        "Control Flow in Python"
      ]
    },
    {
      "cell_type": "markdown",
      "source": [],
      "metadata": {
        "id": "KS_V2L5dfUSZ"
      }
    },
    {
      "cell_type": "code",
      "source": [
        "#Write a program to find the longest word in a given sentence.\n",
        "\n",
        "my_sentence = \"Nobody knows where they might end up\"\n",
        "words = my_sentence.split()\n",
        "max_word = \"\" #for finding max len\n",
        "\n",
        "for word in words:\n",
        "    if len(word) > len(max_word):\n",
        "        max_word = word\n",
        "\n",
        "print('The Longest word is:', max_word)"
      ],
      "metadata": {
        "colab": {
          "base_uri": "https://localhost:8080/"
        },
        "id": "3cesIq4efVzy",
        "outputId": "307b168c-f87e-4eec-af3e-6d472051a49a"
      },
      "execution_count": 8,
      "outputs": [
        {
          "output_type": "stream",
          "name": "stdout",
          "text": [
            "The Longest word is: Nobody\n"
          ]
        }
      ]
    },
    {
      "cell_type": "code",
      "source": [
        "#Write a program to generate the first n prime numbers.\n",
        "\n",
        "n = int(input(\"Enter number: \"))\n",
        "primes = []\n",
        "num = 2\n",
        "\n",
        "while len(primes) < n:\n",
        "    is_prime = True\n",
        "    for i in range(2, int(num ** 0.5) + 1):\n",
        "        if num % i == 0:\n",
        "            is_prime = False\n",
        "            break\n",
        "    if is_prime:\n",
        "        primes.append(num)\n",
        "    num += 1\n",
        "\n",
        "print(\"first n prime:\", primes)\n",
        "\n",
        "\n"
      ],
      "metadata": {
        "colab": {
          "base_uri": "https://localhost:8080/"
        },
        "id": "ZlNeKKSxmUB0",
        "outputId": "0abc53cc-a146-450d-f43f-218a03ecf475"
      },
      "execution_count": 17,
      "outputs": [
        {
          "output_type": "stream",
          "name": "stdout",
          "text": [
            "Enter number: 12\n",
            "first n prime: [2, 3, 5, 7, 11, 13, 17, 19, 23, 29, 31, 37]\n"
          ]
        }
      ]
    },
    {
      "cell_type": "code",
      "source": [
        "#Write a program to convert a decimal number to its binary representation.\n",
        "\n",
        "decimal = int(input(\"Enter a decimal number: \"))\n",
        "binary = ''\n",
        "\n",
        "# Loop to convert\n",
        "if decimal == 0:\n",
        "    binary = '0'\n",
        "else:\n",
        "    while decimal > 0:\n",
        "        binary = str(decimal % 2) + binary\n",
        "        decimal = decimal // 2\n",
        "\n",
        "\n",
        "print(\"The binary representation is:\", binary)\n"
      ],
      "metadata": {
        "colab": {
          "base_uri": "https://localhost:8080/"
        },
        "id": "ZjTBbmydqQ9d",
        "outputId": "3480ec00-26c2-4184-84db-8f1c2830f825"
      },
      "execution_count": 22,
      "outputs": [
        {
          "output_type": "stream",
          "name": "stdout",
          "text": [
            "Enter a decimal number: 456\n",
            "The binary representation is: 111001000\n"
          ]
        }
      ]
    },
    {
      "cell_type": "code",
      "source": [
        "#Write a program to sort a list of dictionaries by a specified key.\n",
        "# dictionaries\n",
        "data = [{\"name\": \"melika\", \"age\": 31,\"student_id\":901 }, {\"name\": \"bahar\", \"age\": 30, \"student_id\":903}, {\"name\": \"mana\", \"age\": 22, \"student_id\":902}]\n",
        "sort_key = \"student_id\"\n",
        "sorted_data = sorted(data, key=lambda x: x[sort_key])\n",
        "\n",
        "print(\"Sorted data:\", sorted_data)\n",
        "\n"
      ],
      "metadata": {
        "colab": {
          "base_uri": "https://localhost:8080/"
        },
        "id": "_UVvSVdbzmdS",
        "outputId": "8c5b9b93-a015-4543-dfd0-19820baf3e98"
      },
      "execution_count": 2,
      "outputs": [
        {
          "output_type": "stream",
          "name": "stdout",
          "text": [
            "Sorted data: [{'name': 'melika', 'age': 31, 'student_id': 901}, {'name': 'mana', 'age': 22, 'student_id': 902}, {'name': 'bahar', 'age': 30, 'student_id': 903}]\n"
          ]
        }
      ]
    },
    {
      "cell_type": "code",
      "source": [
        "# Write a program to calculate the greatest common divisor (GCD) of two numbers.\n",
        "# importing \"math\" for mathematical operations\n",
        "import math\n",
        "\n",
        "print(\"The gcd of 250 and 488 is : \", end=\"\")\n",
        "print(math.gcd(250, 488))\n"
      ],
      "metadata": {
        "colab": {
          "base_uri": "https://localhost:8080/"
        },
        "id": "xYdL_mzUb_x-",
        "outputId": "5c19d5b7-d72e-4194-f1ff-fdbd3e53e318"
      },
      "execution_count": 3,
      "outputs": [
        {
          "output_type": "stream",
          "name": "stdout",
          "text": [
            "The gcd of 250 and 488 is : 2\n"
          ]
        }
      ]
    },
    {
      "cell_type": "code",
      "source": [
        "n = 10 # Number of terms\n",
        "a, b = 0, 1\n",
        "for _ in range(n):\n",
        "   print(a)\n",
        "   a, b = b, a + b"
      ],
      "metadata": {
        "colab": {
          "base_uri": "https://localhost:8080/"
        },
        "id": "i0aYo09CeDnk",
        "outputId": "f4c4a889-77d9-441b-ed0c-7372d5ce2ccc"
      },
      "execution_count": 5,
      "outputs": [
        {
          "output_type": "stream",
          "name": "stdout",
          "text": [
            "0\n",
            "1\n",
            "1\n",
            "2\n",
            "3\n",
            "5\n",
            "8\n",
            "13\n",
            "21\n",
            "34\n"
          ]
        }
      ]
    },
    {
      "cell_type": "code",
      "source": [
        "#Write a program to generate a list of the first n Fibonacci numbers.\n",
        "\n",
        "n = 10 # Number of terms\n",
        "a, b = 0, 1\n",
        "for _ in range(n):\n",
        " print(a)\n",
        " a, b = b, a + b"
      ],
      "metadata": {
        "colab": {
          "base_uri": "https://localhost:8080/"
        },
        "id": "SzVtLJT-hOy4",
        "outputId": "f0bd5a58-42d6-433c-ae50-b7e155be7391"
      },
      "execution_count": 2,
      "outputs": [
        {
          "output_type": "stream",
          "name": "stdout",
          "text": [
            "0\n",
            "1\n",
            "1\n",
            "2\n",
            "3\n",
            "5\n",
            "8\n",
            "13\n",
            "21\n",
            "34\n"
          ]
        }
      ]
    },
    {
      "cell_type": "code",
      "source": [
        "n = 10  # Number of terms\n",
        "fib_list = []\n",
        "a, b = 0, 1\n",
        "for _ in range(n):\n",
        "    fib_list.append(a)\n",
        "    a, b = b, a + b\n",
        "\n",
        "print(fib_list)"
      ],
      "metadata": {
        "colab": {
          "base_uri": "https://localhost:8080/"
        },
        "id": "bW3spkuXQ5DJ",
        "outputId": "54dd2f8b-795b-4e6c-d78e-5200ea2745e6"
      },
      "execution_count": 3,
      "outputs": [
        {
          "output_type": "stream",
          "name": "stdout",
          "text": [
            "[0, 1, 1, 2, 3, 5, 8, 13, 21, 34]\n"
          ]
        }
      ]
    },
    {
      "cell_type": "code",
      "source": [
        "#Write a program to find the intersection of two lists.\n",
        "\n",
        "def intersection(list1, list2):\n",
        "    list3 = [value for value in list1 if value in list2]\n",
        "    return list3\n",
        "\n",
        "list1 = [1, 2, 3, 4, 5]\n",
        "list2 = [4, 5, 6, 7, 8]\n",
        "\n",
        "print(intersection(list1, list2))\n"
      ],
      "metadata": {
        "colab": {
          "base_uri": "https://localhost:8080/"
        },
        "id": "7tPcHJxKRAqW",
        "outputId": "37d29b9c-049b-41ab-ad81-95951ed4122e"
      },
      "execution_count": 27,
      "outputs": [
        {
          "output_type": "stream",
          "name": "stdout",
          "text": [
            "[4, 5]\n"
          ]
        }
      ]
    },
    {
      "cell_type": "code",
      "source": [
        "list1 = [9, 57, 83, 10, 7]\n",
        "list2 = [3, 65, 34, 76, 8, 2]\n",
        "from heapq import merge\n",
        "list(merge(list1, list2))\n",
        "\n",
        "#Write a program to merge two sorted lists into a single sorted list."
      ],
      "metadata": {
        "colab": {
          "base_uri": "https://localhost:8080/"
        },
        "id": "-GfB2VezYqeI",
        "outputId": "35347f80-fc17-4d8c-d716-668c5c62b5d2"
      },
      "execution_count": 30,
      "outputs": [
        {
          "output_type": "execute_result",
          "data": {
            "text/plain": [
              "[3, 9, 57, 65, 34, 76, 8, 2, 83, 10, 7]"
            ]
          },
          "metadata": {},
          "execution_count": 30
        }
      ]
    },
    {
      "cell_type": "code",
      "source": [
        "#Write a program to calculate the dot product of two vectors.\n",
        "import numpy as np\n",
        "\n",
        "a = 3 + 8\n",
        "b = 2 + 6\n",
        "print(np.dot(a, b))"
      ],
      "metadata": {
        "colab": {
          "base_uri": "https://localhost:8080/"
        },
        "id": "xTN0yfEUed38",
        "outputId": "90e24ebc-d69f-4081-a8d6-029d9e8ee9d4"
      },
      "execution_count": 31,
      "outputs": [
        {
          "output_type": "stream",
          "name": "stdout",
          "text": [
            "88\n"
          ]
        }
      ]
    },
    {
      "cell_type": "code",
      "source": [
        "# Python program for simple calculator\n",
        "\n",
        "# Function to add two numbers\n",
        "def add(num1, num2):\n",
        "\treturn num1 + num2\n",
        "\n",
        "# Function to subtract two numbers\n",
        "def subtract(num1, num2):\n",
        "\treturn num1 - num2\n",
        "\n",
        "# Function to multiply two numbers\n",
        "def multiply(num1, num2):\n",
        "\treturn num1 * num2\n",
        "\n",
        "# Function to divide two numbers\n",
        "def divide(num1, num2):\n",
        "\treturn num1 / num2\n",
        "\n",
        "print(\"Please select operation -\\n\" \\\n",
        "\t\t\"1. Add\\n\" \\\n",
        "\t\t\"2. Subtract\\n\" \\\n",
        "\t\t\"3. Multiply\\n\" \\\n",
        "\t\t\"4. Divide\\n\")\n",
        "\n",
        "\n",
        "# Take input from the user\n",
        "select = int(input(\"Select operations form 1, 2, 3, 4 :\"))\n",
        "\n",
        "number_1 = int(input(\"Enter first number: \"))\n",
        "number_2 = int(input(\"Enter second number: \"))\n",
        "\n",
        "if select == 1:\n",
        "\tprint(number_1, \"+\", number_2, \"=\",\n",
        "\t\t\t\t\tadd(number_1, number_2))\n",
        "\n",
        "elif select == 2:\n",
        "\tprint(number_1, \"-\", number_2, \"=\",\n",
        "\t\t\t\t\tsubtract(number_1, number_2))\n",
        "\n",
        "elif select == 3:\n",
        "\tprint(number_1, \"*\", number_2, \"=\",\n",
        "\t\t\t\t\tmultiply(number_1, number_2))\n",
        "\n",
        "elif select == 4:\n",
        "\tprint(number_1, \"/\", number_2, \"=\",\n",
        "\t\t\t\t\tdivide(number_1, number_2))\n",
        "else:\n",
        "\tprint(\"Invalid input\")\n"
      ],
      "metadata": {
        "colab": {
          "base_uri": "https://localhost:8080/"
        },
        "id": "AeTOyQrSillD",
        "outputId": "c31db02e-c7bb-4e6b-b1e1-b6cbfdd58f1a"
      },
      "execution_count": 32,
      "outputs": [
        {
          "output_type": "stream",
          "name": "stdout",
          "text": [
            "Please select operation -\n",
            "1. Add\n",
            "2. Subtract\n",
            "3. Multiply\n",
            "4. Divide\n",
            "\n",
            "Select operations form 1, 2, 3, 4 :4\n",
            "Enter first number: 3\n",
            "Enter second number: 6\n",
            "3 / 6 = 0.5\n"
          ]
        }
      ]
    },
    {
      "cell_type": "markdown",
      "source": [],
      "metadata": {
        "id": "TriRYSRrju8b"
      }
    }
  ]
}